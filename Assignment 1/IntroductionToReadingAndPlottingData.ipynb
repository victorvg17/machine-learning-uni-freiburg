{
 "cells": [
  {
   "cell_type": "markdown",
   "metadata": {},
   "source": [
    "# Read in and Visualize Datasets\n",
    "\n",
    "In this notebook you will learn how to read in .csv files using [numpy](http://www.numpy.org/) and do basic visualizations with [matplotlib](http://matplotlib.org/). We recommend to read and execute the notebook from top to bottom. \n",
    "\n",
    "\n",
    "### Before you start\n",
    "* Be sure that you have downloaded the Boston Housing Dataset files (`housing_all.data`, `housing_all.labels`) and Iris files (`iris_train.data, iris_train.labels, iris_test.data`) from ILIAS.\n",
    "* This notebook runs for sure with *Python3.4* and requires the following packages\n",
    "  * *matplotlib*\n",
    "  * *numpy*\n",
    "* We will use [numpy.loadttxt](http://docs.scipy.org/doc/numpy-1.10.0/reference/generated/numpy.loadtxt.html), but you can use any csv reader (such as [csv](https://docs.python.org/3.4/library/csv.html)) of your choice or write your own.\n",
    "\n",
    "<font color=\"red\">**Remark** (only relevant if you are not familiar with Python):</font> In this notebook we already use the python package numpy. [NumPy](http://numpy.org) is the fundamental package for scientific computing with Python. In this notebook we make use of numpy's csv-reader and N-dimensional array objects (NumPy itself can do many more things), which are more intuitive to handle than lists of lists. Here are two code snippets (which do the same thing) to show how lists and numpy array relate to each other."
   ]
  },
  {
   "cell_type": "code",
   "execution_count": null,
   "metadata": {
    "collapsed": false
   },
   "outputs": [],
   "source": [
    "# Use lists of lists\n",
    "a = [[0]*3,[0, 0] + [0]]  # Create 2x3 array with zeros\n",
    "print(\"1:\", a)\n",
    "\n",
    "a[0][0] = 1  # Change one number\n",
    "print(\"2:\", a)\n",
    "\n",
    "# Change second element in each row\n",
    "for idx in range(len(a)):\n",
    "    a[idx][2] = 23\n",
    "print(\"3:\", a)"
   ]
  },
  {
   "cell_type": "code",
   "execution_count": null,
   "metadata": {
    "collapsed": false
   },
   "outputs": [],
   "source": [
    "# Use numpy arrays\n",
    "import numpy\n",
    "\n",
    "# Create 2x3 array with zeros\n",
    "a = numpy.zeros([2,3])\n",
    "print(\"1:\", a)\n",
    "\n",
    "# Change one number\n",
    "a[0, 0] = 1\n",
    "print(\"2:\", a)\n",
    "\n",
    "# Change second element in each row\n",
    "a[:, 2] = 23\n",
    "print(\"3:\", a)"
   ]
  },
  {
   "cell_type": "markdown",
   "metadata": {},
   "source": [
    "## Overview of this notebook\n",
    "\n",
    "We'll do the following:\n",
    "\n",
    "  1. **Classification**: Iris Dataset\n",
    "    * Load dataset\n",
    "    * Number of samples per class\n",
    "    * Plot two features against each other\n",
    "\n",
    "  2. **Regression**: Boston Housing Dataset\n",
    "    * Load dataset\n",
    "    * Plot each feature against target value"
   ]
  },
  {
   "cell_type": "markdown",
   "metadata": {},
   "source": [
    "## Classification: Iris Dataset\n",
    "\n",
    "In this part we will work with the classification dataset Iris (see https://en.wikipedia.org/wiki/Iris_flower_data_set). It consists of 150 samples of 3 different species of the flowering plant Iris. \n",
    "Each sample is described by 4 different features. \n",
    "\n",
    "* * *\n",
    "**REMARKS:** For this dataset we provide training and test data, because this is the typical setup for machine learning tasks and you will work with this dataset in your first exercise. You have labelled data (training data) you can use to train your model and you have another dataset (test data) for which you don't use the labels during training. This concept allows to compare different models objectively.\n",
    "* * *\n",
    "\n",
    "We splitted the dataset in a training and a test split where the training split contains 100 samples and the test split the remaining 50 samples.\n",
    "\n",
    "You need the following files in order to run the code:\n",
    "\n",
    "    iris_train.data\n",
    "    iris_train.labels\n",
    "    iris_test.data\n",
    "    (yes, there are no labels for the test dataset, see REMARKS below)"
   ]
  },
  {
   "cell_type": "markdown",
   "metadata": {},
   "source": [
    "### Load dataset\n",
    "We first load the training / test data and the labels for the training data through [numpy](http://www.numpy.org/). As a result we get the data in form of a multidimensional array which is the main object in numpy. "
   ]
  },
  {
   "cell_type": "code",
   "execution_count": null,
   "metadata": {
    "collapsed": false
   },
   "outputs": [],
   "source": [
    "%matplotlib inline\n",
    "import matplotlib.pyplot as plt\n",
    "import numpy as np\n",
    "\n",
    "X_train = np.loadtxt(\"iris_train.data\")\n",
    "y_train = np.loadtxt(\"iris_train.labels\")\n",
    "X_test = np.loadtxt(\"iris_test.data\")\n",
    "\n",
    "print(\"Traindata: found %3d data points with %d features each\" % (X_train.shape[0], X_train.shape[1]))\n",
    "print(\"Testdata : found %3d data points with %d features each\" % (X_test.shape[0], X_test.shape[1]))\n"
   ]
  },
  {
   "cell_type": "markdown",
   "metadata": {},
   "source": [
    "### Number of samples per class\n",
    "\n",
    "Before we start to work with this dataset, we will have a brief look at some statistics. The following lines of code count the number of datapoints of each class and\n",
    "plot a histogram."
   ]
  },
  {
   "cell_type": "code",
   "execution_count": null,
   "metadata": {
    "collapsed": false
   },
   "outputs": [],
   "source": [
    "indices_class1 = np.where(y_train == 0)[0]\n",
    "indices_class2 = np.where(y_train == 1)[0]\n",
    "indices_class3 = np.where(y_train == 2)[0]\n",
    "plt.bar(1, len(indices_class1), width=0.4, color=\"blue\")\n",
    "plt.bar(2, len(indices_class2), width=0.4, color=\"red\")\n",
    "plt.bar(3, len(indices_class3), width=0.4, color=\"green\")\n",
    "plt.xticks([1.2, 2.2, 3.2], [\"class-1\", \"class-2\", \"class-3\"])\n",
    "plt.ylabel(\"Number of data points\")\n",
    "plt.grid()\n",
    "plt.show()"
   ]
  },
  {
   "cell_type": "markdown",
   "metadata": {},
   "source": [
    "### Plot two features against each other\n",
    "\n",
    "Now we have look at the actual data. Each of the following plots shows the values of 2 out of the 4 features for each datapoint. The color of each dot indicates the assgined class label.\n",
    "As you can see some features allow to easily distinguish between classes."
   ]
  },
  {
   "cell_type": "code",
   "execution_count": null,
   "metadata": {
    "collapsed": false
   },
   "outputs": [],
   "source": [
    "labels = [\"Feature-0\", \"Feature-1\", \"Feature-2\", \"Feature-3\"]\n",
    "\n",
    "for i in range(X_train.shape[1]):\n",
    "    for j in range(i):\n",
    "        plt.scatter(X_train[indices_class1, i], X_train[indices_class1, j], color=\"b\", s=40, label=\"Class-1\")\n",
    "        plt.scatter(X_train[indices_class2, i], X_train[indices_class2, j], color=\"r\", s=40, label=\"Class-2\")\n",
    "        plt.scatter(X_train[indices_class3, i], X_train[indices_class3, j], color=\"g\", s=40, label=\"Class-3\")\n",
    "        plt.xlabel(labels[i])\n",
    "        plt.ylabel(labels[j])\n",
    "        plt.legend()\n",
    "        plt.grid()\n",
    "        plt.show()"
   ]
  },
  {
   "cell_type": "markdown",
   "metadata": {},
   "source": [
    "The following lines plot an histgramm of the values for each feature. You can see that for instance feature-2 has for class 1 only values between 1 and 2 where as for class 2 and 3 the values are higher than 3."
   ]
  },
  {
   "cell_type": "code",
   "execution_count": null,
   "metadata": {
    "collapsed": false
   },
   "outputs": [],
   "source": [
    "for i in range(X_train.shape[1]):\n",
    "    plt.hist(X_train[indices_class1, i], bins=30, color=\"blue\")\n",
    "    plt.hist(X_train[indices_class2, i], bins=30, color=\"red\")\n",
    "    plt.hist(X_train[indices_class3, i], bins=30, color=\"green\")\n",
    "    plt.xlabel(labels[i])\n",
    "    plt.grid()\n",
    "    plt.show()"
   ]
  },
  {
   "cell_type": "markdown",
   "metadata": {},
   "source": [
    "## Regression with the Boston Housing Dataset\n",
    "\n",
    "In the second part of the notebook we will work with a regression dataset called [Boston Housing Dataset](https://archive.ics.uci.edu/ml/datasets/Housing).\n",
    "\n",
    "* * * \n",
    "**REMARKS:** For this dataset we don't provide different files for test and training, because you won't use this dataset in the exercise.\n",
    "* * * \n",
    "\n",
    "This dataset describes 13 different characteristics of suburbs in Boston and the regression task is to estimate house prizes. Is consists of a total of 506 datapoints.\n",
    "\n",
    "You need the following files in order to run the code:\n",
    "\n",
    "    housing.data\n",
    "    housing.labels"
   ]
  },
  {
   "cell_type": "markdown",
   "metadata": {},
   "source": [
    "### Read in a regression dataset\n",
    "\n",
    "Each row in this file is a data point and all features are separated by a space. For this task we don't have a separate test and training file as we just want to visualize the data."
   ]
  },
  {
   "cell_type": "code",
   "execution_count": null,
   "metadata": {
    "collapsed": false
   },
   "outputs": [],
   "source": [
    "import numpy\n",
    "\n",
    "X = numpy.loadtxt(\"./housing_all.data\", delimiter=\" \")\n",
    "y = numpy.loadtxt(\"./housing_all.labels\", delimiter=\" \")\n",
    "print(\"found %d data points with %d features each\" % (len(X), len(X[0])))\n",
    "\n",
    "# Use rescaled y as color values. (Max of y is 50)\n",
    "c = y/50"
   ]
  },
  {
   "cell_type": "markdown",
   "metadata": {},
   "source": [
    "### Plot each feature against target value \n",
    "\n",
    "Next we will look into the data and plot each feature against its target value. From the plots you will generate you can already guess which of the features are more informative to predict the target (house prizes) than others."
   ]
  },
  {
   "cell_type": "code",
   "execution_count": null,
   "metadata": {
    "collapsed": false
   },
   "outputs": [],
   "source": [
    "%matplotlib inline\n",
    "import matplotlib.pyplot as plt\n",
    "\n",
    "feature_labels = [\"CRIM (per capita crime rate by town)\",\n",
    "                  \"ZN (proportion of residential land zoned for lots over 25,000 sq.ft.)\",\n",
    "                  \"INDUS (proportion of non-retail business acres per town)\",\n",
    "                  \"CHAS (Charles River dummy variable (= 1 if tract bounds river; 0 otherwise))\",\n",
    "                  \"NOX (nitric oxides concentration (parts per 10 million)\",\n",
    "                  \"RM (average number of rooms per dwelling)\",\n",
    "                  \"AGE (proportion of owner-occupied units built prior to 1940)\",\n",
    "                  \"DIS (weighted distances to five Boston employment centres)\",\n",
    "                  \"RAD (index of accessibility to radial highways)\",\n",
    "                  \"TAX (full-value property-tax rate per $10,000)\",\n",
    "                  \"PTRATIO (pupil-teacher ratio by town)\",\n",
    "                  \"B (1000(Bk - 0.63)^2 where Bk is the proportion of blacks by town)\",\n",
    "                  \"LSTAT (lower status of the population)\"]\n",
    "target_label = \"Median value of owner-occupied homes in $1000's\"\n",
    "\n",
    "# Now we plot each dimension against the target value\n",
    "#fig, axes = plt.subplots(nrows=13, ncols=1, figsize=(5, 65))\n",
    "for feature_index, label in enumerate(feature_labels):\n",
    "    # Use c values as colors and use a sequential colormap \"plasma\" and not default colormap 'jet'\n",
    "    plt.scatter([sample[feature_index] for sample in X], y, facecolor=list(zip(c, c, c)), cmap=\"plasma\")\n",
    "    #plt.colorbar()\n",
    "    plt.xlabel(label)\n",
    "    plt.ylabel(target_label)\n",
    "    # If you don't add plt.show() it will not create a new figure, but plot everything into one figure\n",
    "    plt.show()"
   ]
  }
 ],
 "metadata": {
  "kernelspec": {
   "display_name": "Python 3",
   "language": "python",
   "name": "python3"
  },
  "language_info": {
   "codemirror_mode": {
    "name": "ipython",
    "version": 3
   },
   "file_extension": ".py",
   "mimetype": "text/x-python",
   "name": "python",
   "nbconvert_exporter": "python",
   "pygments_lexer": "ipython3",
   "version": "3.4.3+"
  }
 },
 "nbformat": 4,
 "nbformat_minor": 0
}
