{
 "cells": [
  {
   "cell_type": "markdown",
   "metadata": {},
   "source": [
    "# k-means clustering\n",
    "\n",
    "In this exercise we will apply the concepts learned during the lectures regarding unsupervised clustering methods.\n",
    "\n",
    "The k-means algorithm is a simple clustering approach that can still be very effective under the right circumstances, i.e. when the assumptions of k-means are met.\n",
    "\n",
    "First we will load the necessary packages and select a suitable colormap."
   ]
  },
  {
   "cell_type": "code",
   "execution_count": null,
   "metadata": {},
   "outputs": [],
   "source": [
    "from sklearn.cluster import KMeans\n",
    "import numpy as np\n",
    "import matplotlib\n",
    "from matplotlib import pyplot as plt\n",
    "\n",
    "# set nipy_spectral as default colormap for all plots from now on\n",
    "matplotlib.rc('image', cmap='nipy_spectral')"
   ]
  },
  {
   "cell_type": "markdown",
   "metadata": {},
   "source": [
    "#### Task 1\n",
    "\n",
    "Load and inspect the provided 2-dimensional data set `synth.txt` and determine a suitable value for $k$ before we apply the actual algorithm in task 2. If you are not sure, pick multiple feasible values for $k$ that could be used."
   ]
  },
  {
   "cell_type": "code",
   "execution_count": null,
   "metadata": {},
   "outputs": [],
   "source": [
    "# Your code below here\n",
    "\n",
    "\n"
   ]
  },
  {
   "cell_type": "markdown",
   "metadata": {},
   "source": [
    "#### Task 2\n",
    "\n",
    "a) Apply the `KMeans` algorithm as provided by sklearn to the data set using your chosen values for $k$. Additionally use the values 2 and 100 for $k$.\n",
    "\n",
    "b) For each value of $k$, visualize your results. Use a scatter plot with each cluster having a distinct color. Additionally plot the cluster centroids. As you will be plotting multiple cluster results in the next few tasks, writing a `plot_clustering` function may be helpful. *Hint:* You can access the cluster labels from the fitted kmeans object using `kmeans.labels_` and the centroids using `kmeans.cluster_centers_`.\n"
   ]
  },
  {
   "cell_type": "code",
   "execution_count": null,
   "metadata": {},
   "outputs": [],
   "source": [
    "def plot_clustering(data, labels, centroids=None, title='', ax=None):\n",
    "    # Your code below here\n",
    "    pass # remove this if return statement is implemented"
   ]
  },
  {
   "cell_type": "code",
   "execution_count": null,
   "metadata": {},
   "outputs": [],
   "source": [
    "# Insert your values for k you would like to test k-means with into this array\n",
    "good_Ks = [2, 100]\n",
    "# Your code below here\n",
    "\n",
    "\n"
   ]
  },
  {
   "cell_type": "markdown",
   "metadata": {},
   "source": [
    "# Assessing clustering quality\n",
    "\n",
    "As the used data set was only using $D=2$ dimensions, we could easily plot the results and judge whether the assigned clusters make sense. For large values of $D$, a visual inspection would require either a dimensionality reduction as preprocessing (e.g. via PCA), or a post-processing (e.g. via tSNE, see https://scikit-learn.org/stable/modules/generated/sklearn.manifold.TSNE.html#sklearn.manifold.TSNE) to project the clustered data to a lower-dimensional representation. However, there are metrics that quantify how *good* a clustering results is. One commonly used metric is the **silhouette score**. This metric quantifies the intuition, that data points within one cluster should be close to each other but far away from neighbouring clusters.\n",
    "\n",
    "For each single data point $i$ in a cluster $C_n$ we can calculate how well this data point fits within its cluster, i.e. whether the average distance of this $i$-th data point in cluster $C_n$ to all other data points in $C_n$ is small.\n",
    "\n",
    "$a(i) = \\dfrac{1}{|C_n| - 1} \\sum\\limits_{j \\in C_n, i\\neq j} d(i,j), \\;\\; i,j \\in C_n$\n",
    "\n",
    "Any distance measure $d$ can be used, however, we use Euclidean distance. This metric $a(i)$ quantifies how well a data point fits within its assigned cluster. Now we want to quantify how dissimilar this data point $i$ is to the other clusters. Specifically we are interested in the dissimilarity to its closest neighbouring cluster.\n",
    "\n",
    "$b(i) = \\min\\limits_{C_m \\neq C_n} \\dfrac{1}{|C_m|} \\sum\\limits_{j \\in C_m} d(i,j)$\n",
    "\n",
    "Using both of these metrics we can now formulate the silhouette score:\n",
    "\n",
    "$s(i) = \\dfrac{b(i) - a(i)}{\\max\\{a(i), b(i)\\}}$\n",
    "\n",
    "Note that $s(i) \\in \\left[-1,1\\right]$ where $-1$ represents a bad cluster assignment and $1$ a good assignment.\n",
    "\n",
    "\n",
    "#### Task 3\n",
    "\n",
    "Use the `silhouette_score` implementation of sklearn to calculate the average silhouette score of all samples for a clustering result.\n",
    "\n",
    "Calculate the average silhouette score of all data points for clusterings obtained by using the k-means algorithm for all values of $k \\in [2,20]$. Finally, plot the average silhouette score depending on $k$. How would you interpret these results?"
   ]
  },
  {
   "cell_type": "code",
   "execution_count": null,
   "metadata": {},
   "outputs": [],
   "source": [
    "from sklearn.metrics import silhouette_score\n",
    "\n",
    "Ks = range(2,21)\n",
    "# Your code below here\n",
    "\n",
    "\n",
    "\n"
   ]
  }
 ],
 "metadata": {
  "kernelspec": {
   "display_name": "Python 3",
   "language": "python",
   "name": "python3"
  },
  "language_info": {
   "codemirror_mode": {
    "name": "ipython",
    "version": 3
   },
   "file_extension": ".py",
   "mimetype": "text/x-python",
   "name": "python",
   "nbconvert_exporter": "python",
   "pygments_lexer": "ipython3",
   "version": null
  }
 },
 "nbformat": 4,
 "nbformat_minor": 2
}
