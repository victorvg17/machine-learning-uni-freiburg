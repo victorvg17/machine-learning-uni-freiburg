{
 "cells": [
  {
   "cell_type": "markdown",
   "metadata": {},
   "source": [
    "## Exercise 6.1\n",
    "\n",
    "\n",
    "One of the simplest approaches for hyperparameter optimization is random search since it is easy to implement and to parallelize. In this exercise, your task will be to implement a simple random search for a k-nearest neighbor classifier tuning the neighborhood size."
   ]
  },
  {
   "cell_type": "markdown",
   "metadata": {},
   "source": [
    "Task a) Implement a function which will train the classifier given a configuration and returns the validation performance."
   ]
  },
  {
   "cell_type": "code",
   "execution_count": 140,
   "metadata": {},
   "outputs": [
    {
     "data": {
      "text/plain": [
       "((90, 4), (60, 4))"
      ]
     },
     "execution_count": 140,
     "metadata": {},
     "output_type": "execute_result"
    }
   ],
   "source": [
    "# lets first load the data\n",
    "from sklearn import datasets\n",
    "from sklearn.model_selection import train_test_split\n",
    "import numpy as np\n",
    "\n",
    "iris = datasets.load_iris()\n",
    "X = iris.data\n",
    "y = iris.target\n",
    "\n",
    "#TODO split data into training and validation (let's assume we have another test set somewhere) \n",
    "# using 40% for validation\n",
    "X_train, X_valid, y_train, y_valid = train_test_split(X, y, test_size=0.40, random_state=42)\n",
    "# checkout out sklearn.model_selection \n",
    "X_train.shape, X_valid.shape"
   ]
  },
  {
   "cell_type": "code",
   "execution_count": 141,
   "metadata": {},
   "outputs": [],
   "source": [
    "from sklearn.neighbors import KNeighborsClassifier\n",
    "\n",
    "def run(n_neighbors):\n",
    "# def run(config):    \n",
    "    \n",
    "    # TODO create KNN object and pass n_neighbors\n",
    "    knn_obj = KNeighborsClassifier(n_neighbors)\n",
    "    # TODO fit kNN on trainings data\n",
    "    knn_obj.fit(X_train, y_train)\n",
    "    # TODO get score on valid data\n",
    "    score = knn_obj.score(X_valid, y_valid)\n",
    "#     print(score)\n",
    "    return score\n",
    "        "
   ]
  },
  {
   "cell_type": "markdown",
   "metadata": {},
   "source": [
    "Task b) Implement random search using the ConfigSpace module.\n",
    "Checkout [ConfigSpace Docu](https://automl.github.io/ConfigSpace/master/)"
   ]
  },
  {
   "cell_type": "code",
   "execution_count": 142,
   "metadata": {},
   "outputs": [],
   "source": [
    "from ConfigSpace.configuration_space import ConfigurationSpace\n",
    "import ConfigSpace.hyperparameters as CSH\n",
    "\n",
    "# TODO add n_neighbors as UniformIntegerHyperparameter with ranges (1,40)\n",
    "# print(cs)"
   ]
  },
  {
   "cell_type": "code",
   "execution_count": 143,
   "metadata": {},
   "outputs": [
    {
     "name": "stdout",
     "output_type": "stream",
     "text": [
      "config 0 n_neighbors: 19\n",
      "config 1 n_neighbors: 8\n",
      "config 2 n_neighbors: 34\n",
      "config 3 n_neighbors: 20\n",
      "config 4 n_neighbors: 37\n",
      "config 5 n_neighbors: 6\n",
      "config 6 n_neighbors: 28\n",
      "config 7 n_neighbors: 4\n",
      "config 8 n_neighbors: 24\n",
      "config 9 n_neighbors: 36\n",
      "arg max: 0\n",
      "max: 1.0\n",
      "mean: 0.9883333333333333\n",
      "min: 0.9666666666666667\n",
      "score_test: 1.0\n"
     ]
    }
   ],
   "source": [
    "#TODO implement a simple for-loop (10 iterations) and query run(config) by using cs.sample_configuration()\n",
    "\n",
    "scores = np.zeros(10)\n",
    "for i in range(10):\n",
    "    #TODO \n",
    "#     cs.sample_configuration()\n",
    "    cs = ConfigurationSpace()\n",
    "    n_neighbors = CSH.UniformIntegerHyperparameter(name = 'n_neighbors', lower=1, upper=40, log=False)\n",
    "    cs.add_hyperparameter(n_neighbors)\n",
    "#     cs.sample_configuration()\n",
    "    config = cs.sample_configuration().get('n_neighbors')\n",
    "    print(f'config {i} n_neighbors: {config}')\n",
    "\n",
    "    \n",
    "#     scores.append(run(n_neighbors, X_train, X_valid, y_train, y_valid))\n",
    "    scores[i] = run(config)\n",
    "    \n",
    "# let's check some statistics\n",
    "import numpy as np\n",
    "print(f'arg max: {np.argmax(scores)}')\n",
    "print(f'max: {np.max(scores)}')\n",
    "print(f'mean: {np.mean(scores)}')\n",
    "print(f'min: {np.min(scores)}')\n",
    "\n",
    "score_test = run(n_neighbors=13)\n",
    "print(f'score_test: {score_test}')"
   ]
  }
 ],
 "metadata": {
  "kernelspec": {
   "display_name": "Python 3",
   "language": "python",
   "name": "python3"
  },
  "language_info": {
   "codemirror_mode": {
    "name": "ipython",
    "version": 3
   },
   "file_extension": ".py",
   "mimetype": "text/x-python",
   "name": "python",
   "nbconvert_exporter": "python",
   "pygments_lexer": "ipython3",
   "version": "3.7.3"
  }
 },
 "nbformat": 4,
 "nbformat_minor": 2
}
