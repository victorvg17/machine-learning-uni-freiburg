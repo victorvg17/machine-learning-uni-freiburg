{
 "cells": [
  {
   "cell_type": "markdown",
   "metadata": {},
   "source": [
    "# 7.1 Theory of Kernels\n",
    "\n",
    "Kernel methods are a way of implicitly mapping a data set to a higher dimension to increase the separability, e.g. for linear methods like PCA or support vector machines (SVM). In this exercise, we will review the fundamental properties of kernel functions and you have to decide for a list of functions whether they define a kernel or not.\n",
    "\n",
    "__Task 1__: Check the definition of a kernel function $k(x,y)$. How can you construct a counterexample to show that a symmetric function is __not__ a kernel?\n",
    "\n",
    "Hint: Look at the two-dimensional case and the corresponding Gram-Matrix:\n",
    "\n",
    "\\begin{equation} \n",
    "M(x,y)=\\begin{vmatrix} k( x,x) & k(x,y) \\\\\n",
    "k(y,x) & k(y,y) \\end{vmatrix}\n",
    "\\end{equation}\n",
    "\n",
    "Which requirement do the eigenvalues of $M$ need to satisfy, for $k(x,y)$ to be a kernel? Use the relationship between positive definiteness and the sign of the eigenvalues. \n",
    "\n",
    "__Task 2__: Given two kernels $k_1(x,y)$ and $k_2(x,y)$. Under which operation defines the combination of the two a new kernel? To answer this question, you may look at Bishops Book: _Pattern Recognition and Machine Learning_; Chapter 6: Kernels.\n",
    "\n",
    "__Questions 7.1:__\n",
    "\n",
    "Let $\\mathbf k_i: \\mathbb{ R}^N $ x $\\mathbb {R}^N \\rightarrow \\mathbb R$ for $i = 1..6, N \\geq 2$ be functions.\n",
    "Which of the six following function defines a valid kernel? Prove it or give a counterexample for $N=2$ to justify your answer. Use the answers to Task 1 and Task 2 to accomplish this task. You can use the list of basic kernel functions from the lecture without any further proof. \n",
    "\n",
    "\\begin{align}\n",
    "k_1(x,y) &= \\sum_{i=1}^N(x_i + y_i) \\\\\n",
    "k_2(x,y) &= (x^T y + c)^d \\text{ for } c>0, d \\in \\mathbb N \\\\\n",
    "k_3(x,y) &= \\frac{x^T y}{ ||x|| \\cdot ||y||} \\\\\n",
    "k_4(x,y) &= \\sqrt{||x-y||^2+1} \\\\\n",
    "k_5(x,y) &= \\prod_{i=1}^N \\left( h \\left( \\frac{x_i - c}{a} \\right) h \\left( \\frac{y_i - c}{a} \\right) \\right) \\text{ for } c \\in \\mathbb R, a \\in \\mathbb R \\setminus \\{0\\} \\text{ and } h(x) = cos(\\pi x) \\cdot exp\\left(-\\frac{x^2}{6}\\right)  \\\\\n",
    "k_6(x,y) &= \\sum_{i=1}^{N} cos(x_i) y_i\n",
    "\\end{align}"
   ]
  },
  {
   "cell_type": "code",
   "execution_count": null,
   "metadata": {},
   "outputs": [],
   "source": []
  }
 ],
 "metadata": {
  "kernelspec": {
   "display_name": "Python 3",
   "language": "python",
   "name": "python3"
  },
  "language_info": {
   "codemirror_mode": {
    "name": "ipython",
    "version": 3
   },
   "file_extension": ".py",
   "mimetype": "text/x-python",
   "name": "python",
   "nbconvert_exporter": "python",
   "pygments_lexer": "ipython3",
   "version": "3.5.2"
  }
 },
 "nbformat": 4,
 "nbformat_minor": 1
}
