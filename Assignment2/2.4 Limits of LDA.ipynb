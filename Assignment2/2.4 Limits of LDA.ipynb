{
 "cells": [
  {
   "cell_type": "markdown",
   "metadata": {},
   "source": [
    "# The limits of LDA\n",
    "\n",
    "Here, we will explore the limitations of LDA and how some of them can be overcome. To this end, two datasets will be used\n"
   ]
  },
  {
   "cell_type": "code",
   "execution_count": null,
   "metadata": {},
   "outputs": [],
   "source": [
    "import numpy as np\n",
    "import matplotlib.pyplot as plt\n",
    "import os.path"
   ]
  },
  {
   "cell_type": "markdown",
   "metadata": {},
   "source": [
    "## Preprocess the features\n",
    "Sometimes, some of the features clearly violate the __linear separability__ assumption made by LDA. Features can be pre-processed by applying a given function to each feature, which yields a Generalized Linear Discriminant analysis:\n",
    "\n",
    "$$ y = \\sum_i^D w_i f_i(\\mathbf{x}_i) $$ \n",
    "\n",
    "__Task:__ Follow the steps (1) to (4) in the code below."
   ]
  },
  {
   "cell_type": "code",
   "execution_count": null,
   "metadata": {},
   "outputs": [],
   "source": [
    "ds_data = 'data/non-lin_train.data'\n",
    "ds_labels ='data/non-lin_train.labels'\n",
    "X_train = np.loadtxt(ds_data)\n",
    "y_train = np.loadtxt(ds_labels)\n",
    "\n",
    "# 1-> Scatter-plot your 2D-data\n"
   ]
  },
  {
   "cell_type": "markdown",
   "metadata": {},
   "source": [
    "#### Q2.4.1) Which LDA assumption(s) are violated by the provided dataset?\n",
    "#### Q2.4.2) In which way can the feature(s) be preprocessed in order to improve the performance? Hint: Think of polynomials, trigonometric functions, logarithms, exponential functions, etc."
   ]
  },
  {
   "cell_type": "code",
   "execution_count": null,
   "metadata": {},
   "outputs": [],
   "source": [
    "ds_data = 'data/non-lin_test.data'\n",
    "X_test = np.loadtxt(ds_data)\n",
    "\n",
    "# 2-> Preprocess your features\n",
    "# 3-> Check the performance of your LDA classifier\n",
    "# 4-> If you think you got it, upload your prediction accuracy to the wiki.\n",
    "# 5 -> In addition, upload your implementation to GitLab under git_dir/Assignment2/Q2-4.ipynb"
   ]
  },
  {
   "cell_type": "markdown",
   "metadata": {},
   "source": [
    "## Feature extraction\n",
    "__Tasks:__ \n",
    " 1. Visualize the given toy 2D-dataset. \n",
    " 2. Train an LDA classifier on the given data. Remember to split your data set into training and validation set. Which performance do you achieve?\n",
    "\n",
    "\n",
    "There appears to be some exploitable structure in your data, but the LDA is not able to directly capture this.\n",
    "\n",
    "#### Q2.4.3) In which way can the existing features be combined in order to get a __linearly separable__ dataset? \n",
    "\n",
    "__Hint:__ Try to think of it in a 3D way: How would you add another dimension such that the 2 classes can be separated by a plane?\n",
    "\n",
    "__Tasks__: \n",
    "1. Implement your additional feature that combines the existing features. \n",
    "2. Calculate the performance of LDA using this additional feature and see if you can improve upon the performance."
   ]
  },
  {
   "cell_type": "code",
   "execution_count": null,
   "metadata": {},
   "outputs": [],
   "source": [
    "ds_data = 'data/circles_train.data'\n",
    "ds_labels ='data/circles_train.labels'\n",
    "X = np.loadtxt(ds_data)\n",
    "y = np.loadtxt(ds_labels)\n",
    "\n",
    "# 1-> Scatter-plot your 2D-data.\n",
    "# 2-> Combine the 2 existing features so a LDA classifier works"
   ]
  },
  {
   "cell_type": "markdown",
   "metadata": {},
   "source": [
    "## What else can go wrong?\n",
    "\n",
    "__Task:__ Visualize the data set.\n",
    "\n",
    "#### Q2.4.4) What LDA assumption(s) are violated by the next dataset? What would be an optimal decision boundary? \n",
    "\n",
    "#### Q2.4.5 (Bonus): Investigate which method would provide an optimal decision boundary. \n",
    "\n",
    "__Hint:__ It is slightly a more general technique than LDA."
   ]
  },
  {
   "cell_type": "code",
   "execution_count": null,
   "metadata": {},
   "outputs": [],
   "source": [
    "\n",
    "ds_data = 'data/unbalanced_train.data'\n",
    "ds_labels ='data/unbalanced_train.labels'\n",
    "X = np.loadtxt(ds_data)\n",
    "y = np.loadtxt(ds_labels)\n",
    "\n",
    "# 1-> Scatter-plot your 2D-data.\n",
    "# 2-> What is the optimal decision boundary?"
   ]
  }
 ],
 "metadata": {
  "kernelspec": {
   "display_name": "Python 3",
   "language": "python",
   "name": "python3"
  },
  "language_info": {
   "codemirror_mode": {
    "name": "ipython",
    "version": 3
   },
   "file_extension": ".py",
   "mimetype": "text/x-python",
   "name": "python",
   "nbconvert_exporter": "python",
   "pygments_lexer": "ipython3",
   "version": null
  }
 },
 "nbformat": 4,
 "nbformat_minor": 1
}
