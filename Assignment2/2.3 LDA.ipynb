{
 "cells": [
  {
   "cell_type": "markdown",
   "metadata": {},
   "source": [
    "# 2.3 Linear Discriminant Analysis "
   ]
  },
  {
   "cell_type": "markdown",
   "metadata": {},
   "source": [
    "In the following, we will work on the Iris data Set. As a little helper for you, we will use an out-of-the-box method from the seaborn package to visualize the data set. The seaborn package is a matplotlib-based visualization package. You can install it by typing the following command in the terminal: \"__sudo pip3 install seaborn__\". If you run the script and you do not see the data, also install the cairo backend with \"__sudo pip3 install cairocffi__\".\n",
    "\n",
    "__Task:__ Which of the four features is the most discriminant one? "
   ]
  },
  {
   "cell_type": "code",
   "execution_count": null,
   "metadata": {},
   "outputs": [],
   "source": [
    "%matplotlib inline\n",
    "#import seaborn as sns\n",
    "#sns.set()\n",
    "#df = sns.load_dataset(\"iris\")\n",
    "#sns.pairplot(df, hue=\"species\")\n",
    "#plt.show()"
   ]
  },
  {
   "cell_type": "markdown",
   "metadata": {},
   "source": [
    "## Implementation of a 2-class LDA\n",
    " \n",
    "__Task__: Write a function *train_LDA()* that uses training data $\\mathbf{X}$ and labels $\\mathbf y$ to train an LDA model and returns weights $\\mathbf w$ and a bias $\\mathbf b$ for a two-class problem. Review the lecture slides for the theoretical backgrounds."
   ]
  },
  {
   "cell_type": "code",
   "execution_count": null,
   "metadata": {},
   "outputs": [],
   "source": [
    "import numpy as np\n",
    "import matplotlib.pyplot as plt\n",
    "\n",
    "def train_lda(X, y):\n",
    "    ''' Train an LDA\n",
    "    Input: X data matrix with shape NxD\n",
    "           y label vector with shape Nx1\n",
    "    Output: weight vector with shape Nx1 \n",
    "            bias term - real-valued '''\n",
    "\n",
    "    \n",
    "    \n",
    "    return weights, bias\n"
   ]
  },
  {
   "cell_type": "markdown",
   "metadata": {},
   "source": [
    "## Validation of the trained LDA model \n",
    "\n",
    "__Task__: Write a function *apply_lda()* that uses the weights and bias of the *train_LDA(X, y)* function and returns a vector of predicted classes."
   ]
  },
  {
   "cell_type": "code",
   "execution_count": null,
   "metadata": {},
   "outputs": [],
   "source": [
    "def apply_lda(X_test, weights, bias):\n",
    "    '''Predict the class label per sample \n",
    "    Input: X_test - data matrix with shape NxD\n",
    "           weight vector and bias term from train_LDA\n",
    "    Output: vector with entries 1 or 2 depending on the class'''    \n",
    "    \n",
    "  \n",
    "    \n",
    "    return y_test"
   ]
  },
  {
   "cell_type": "markdown",
   "metadata": {},
   "source": [
    "## Test your implementations with the Iris data set\n",
    "\n",
    "In Assignment 1, you have already been inspecting the iris data set. Now, train an LDA on the training data of the iris data set (using only class 1 and 2) and validate it on your training and test data.\n",
    "\n",
    "#### Q2.3.1 Which accuracy can you achieve on the iris data test set?"
   ]
  },
  {
   "cell_type": "code",
   "execution_count": null,
   "metadata": {},
   "outputs": [],
   "source": [
    "# Load the iris data set \n",
    "X_train_all = np.loadtxt('data/iris_train.data', delimiter=' ', dtype=float)\n",
    "y_train_all = np.loadtxt('data/iris_train.labels', dtype=int)\n",
    "X_test_all = np.loadtxt('data/iris_test.data', delimiter=' ', dtype=float)\n",
    "y_test_all = np.loadtxt('data/iris_test.labels', dtype=int)\n",
    "\n",
    "# only select classes 1 and 2\n",
    "X_train = X_train_all[np.logical_or(y_train_all==1,y_train_all==2)]\n",
    "y_train = y_train_all[np.logical_or(y_train_all==1,y_train_all==2)]\n",
    "\n",
    "X_test = X_test_all[np.logical_or(y_test_all==1,y_test_all==2)]\n",
    "y_test = y_test_all[np.logical_or(y_test_all==1,y_test_all==2)]\n",
    "\n",
    "\n",
    "# train an LDA and apply it on the test data set, report your accuracy (in percent)\n",
    "\n",
    "\n",
    "\n",
    "# print('The Accuracy on the test set is %.2f%%' %(sum(y_test==y_prediction)/len(y_test)*100))"
   ]
  }
 ],
 "metadata": {
  "kernelspec": {
   "display_name": "Python 3",
   "language": "python",
   "name": "python3"
  },
  "language_info": {
   "codemirror_mode": {
    "name": "ipython",
    "version": 3
   },
   "file_extension": ".py",
   "mimetype": "text/x-python",
   "name": "python",
   "nbconvert_exporter": "python",
   "pygments_lexer": "ipython3",
   "version": null
  }
 },
 "nbformat": 4,
 "nbformat_minor": 1
}
