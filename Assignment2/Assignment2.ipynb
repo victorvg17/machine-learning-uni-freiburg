{
 "cells": [
  {
   "cell_type": "markdown",
   "metadata": {},
   "source": [
    "# Assignment 2, Machine Learning Summer Term 2018, Uni Freiburg \n",
    "\n",
    "## Exercise 1: Theoretical Foundations\n",
    "\n",
    "Before you dive right into the actual assignment, we recommend you to get familiar or recap the following terms:\n",
    "\n",
    "* Variance\n",
    "* Covariance\n",
    "* Dot product\n",
    "* Eigenvalue problem\n",
    "* Eigenvalue spectrum\n",
    "* Pseudo-inverse of a matrix\n",
    "* Percentiles\n",
    "\n",
    "We suggest the following resources ...\n",
    "\n",
    " * __Stats Exchange (Covariance)__: http://stats.stackexchange.com/a/18200\n",
    " * __Khan academy (Eigen-everything)__: https://www.khanacademy.org/math/linear-algebra/alternate_bases/eigen_everything/v/linear-algebra-introduction-to-eigenvalues-and-eigenvectors\n",
    " * __Wikipedia (Percentile)__: https://en.wikipedia.org/wiki/Percentile\n",
    " \n",
    "In addition, if you are not familiar with the Python library 'numpy', then we suggest you to go through the examples here:\n",
    "\n",
    " * __Stanford University Course CS231n:__ http://cs231n.github.io/python-numpy-tutorial/#numpy\n",
    "\n",
    "--------------------------------\n",
    "While doing the assignment, you will see __Tasks__, __Questions__ and __Bonus Questions__.\n",
    "\n",
    "__Tasks__ are the steps you should follow to find to the solution. Nothing has to be reported for them.\n",
    "\n",
    "__Questions__ are the main points that you should answer.\n",
    "\n",
    "__Bonus Questions__ are (optional), more difficult questions.\n",
    "\n",
    "You can upload your completed Jupyter notebooks to GitLab (under git_dir/Assignment2/Exercise_x.ipnb with x=2,3,4). By uploading your solutions early, you increase your chances to get feedback from our student assistants."
   ]
  },
  {
   "cell_type": "markdown",
   "metadata": {},
   "source": [
    "## Exercise 2: Estimating Covariance Matrices\n",
    "\n",
    "A central element of multi-dimensional statistics is the covariance matrix. It allows to capture some of the higher-dimensional structure of the data. In this exercise, you will learn about how to estimate the covariance, which problems may occur if not enough data points are present and how to improve upon the ordinary covariance estimation. You find the assignment sheet here: [2.2 Covariance Estimation](2.2 Covariance Estimation.ipynb). "
   ]
  },
  {
   "cell_type": "markdown",
   "metadata": {},
   "source": [
    "## Exercise 3: Implementation of a LDA classifier\n",
    "\n",
    "In this exercise, you will implement a linear discriminant analysis (LDA) classifier and test it on the Iris data set. Can you correctly predict the different flower species based on the length and the width of their sepals and petals? The assignment is here:\n",
    "[2.3 LDA](2.3 LDA.ipynb)"
   ]
  },
  {
   "cell_type": "markdown",
   "metadata": {},
   "source": [
    "## Exercise 4: Limits of LDA\n",
    "\n",
    "In this part, you will explore the limits of the LDA. You will investigate the behavior of the LDA on three data sets, identify problems and find possible strategies to overcome them. You find the assignment sheet here: [2.4 Limits of LDA](2.4 Limits of LDA.ipynb). "
   ]
  },
  {
   "cell_type": "markdown",
   "metadata": {},
   "source": [
    "## Questions and feedback\n",
    " \n",
    "* If you have any questions and you are unable to find the solution with Google, then please use the corresponding thread in the forum to pose your questions. \n",
    "* If you would like to provide any feedback about the assignment, then please also use the corresponding thread in the forum."
   ]
  }
 ],
 "metadata": {
  "kernelspec": {
   "display_name": "Python 3",
   "language": "python",
   "name": "python3"
  },
  "language_info": {
   "codemirror_mode": {
    "name": "ipython",
    "version": 3
   },
   "file_extension": ".py",
   "mimetype": "text/x-python",
   "name": "python",
   "nbconvert_exporter": "python",
   "pygments_lexer": "ipython3",
   "version": null
  }
 },
 "nbformat": 4,
 "nbformat_minor": 1
}
