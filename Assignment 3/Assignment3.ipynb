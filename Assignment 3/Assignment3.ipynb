{
 "cells": [
  {
   "cell_type": "markdown",
   "metadata": {},
   "source": [
    "# Assignment 3, Machine Learning Summer Term 2019, Uni Freiburg \n",
    "\n",
    "------------------------------\n",
    "As a reminder of our syntax during the assignment, you will see __Tasks__ and __Questions__.\n",
    "\n",
    "__Tasks__ are the steps you should follow to find to the solution. Nothing has to be reported for them.\n",
    "\n",
    "__Questions__: You can upload your completed ipython notebooks to your git repository. You will receive personal feedback upon your submissions by the tutors if you upload them by Sunday, May 12th. (Part 1 and 2) and Wednesday 15th (Part 3)\n"
   ]
  },
  {
   "cell_type": "markdown",
   "metadata": {},
   "source": [
    "## Exercise 1: Linear Regression\n",
    "\n",
    "In this exercise, you will implement a linear regression and work on the mathematical background of Linear Regression. You will also investigate the influence of outliers to the model: [3.1 Least Square Linear Regression](3.1 Least Square Linear Regression.ipynb)"
   ]
  },
  {
   "cell_type": "markdown",
   "metadata": {},
   "source": [
    "## Exercise 2: Linear Regression with Gradient Descent\n",
    "\n",
    "In this exercise you will solve the Linear Regression problem using a numerical optimization method: [3.2 Linear Regression with Gradient Descent](3.2 Linear Regression with Gradient Descent.ipynb)\n"
   ]
  },
  {
   "cell_type": "markdown",
   "metadata": {},
   "source": [
    "## Exercise 3: Logistic Regression vs. LDA\n",
    "\n",
    "As machine learning methods generally build upon model-specific assumptions, it is really important to check them for a given data scenario. In addition, this exercise introduces the probabilistic view on classification scenarios and guides you to a way to visualize this: [3.3 Logistic Regression Vs LDA](3.3 Logistic Regression Vs LDA.ipynb)"
   ]
  }
 ],
 "metadata": {
  "kernelspec": {
   "display_name": "Python 3",
   "language": "python",
   "name": "python3"
  },
  "language_info": {
   "codemirror_mode": {
    "name": "ipython",
    "version": 3
   },
   "file_extension": ".py",
   "mimetype": "text/x-python",
   "name": "python",
   "nbconvert_exporter": "python",
   "pygments_lexer": "ipython3",
   "version": "3.7.1"
  }
 },
 "nbformat": 4,
 "nbformat_minor": 1
}
