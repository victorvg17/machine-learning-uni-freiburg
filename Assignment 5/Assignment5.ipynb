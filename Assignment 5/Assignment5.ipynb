{
 "cells": [
  {
   "cell_type": "markdown",
   "metadata": {},
   "source": [
    "# Assignment 5, Machine Learning Summer Term 2019, Uni Freiburg \n",
    "\n",
    "------------------------------\n",
    "As a reminder of our syntax during the assignment, you will see __Tasks__ and __Questions__.\n",
    "\n",
    "__Tasks__ are the steps you should follow to find the solution. \n",
    "\n",
    "__Questions __ are important concepts of the lecture. Answers to __Questions __ should be given in the notebook such that you can upload them together with your implementations to your git repository.\n"
   ]
  },
  {
   "cell_type": "markdown",
   "metadata": {},
   "source": [
    "## Exercise 5.1: Bias-Variance Analysis\n",
    "\n",
    "Understanding the capabilities and limitations of models is vital in Machine Learning. In this exercise you will learn how to implement polynomial models and compare their bias and variance to linear models:  [5.1 Bias-Variance Analysis](5.1 Bias-Variance Analysis.ipynb)"
   ]
  },
  {
   "cell_type": "markdown",
   "metadata": {},
   "source": [
    "## Exercise 5.2: Cross-Validation and Regularization\n",
    "\n",
    "While theoretical analysis of model classes is important, it is often just not feasible in practice. Cross-validation is one of the must fundamentally important techniques and you get to implement it! [5.2 Cross-Validation and Regularization](5.2 Cross-Validation and Regularization.ipynb)."
   ]
  }
 ],
 "metadata": {
  "kernelspec": {
   "display_name": "Python 3",
   "language": "python",
   "name": "python3"
  },
  "language_info": {
   "codemirror_mode": {
    "name": "ipython",
    "version": 3
   },
   "file_extension": ".py",
   "mimetype": "text/x-python",
   "name": "python",
   "nbconvert_exporter": "python",
   "pygments_lexer": "ipython3",
   "version": "3.6.5"
  }
 },
 "nbformat": 4,
 "nbformat_minor": 1
}
