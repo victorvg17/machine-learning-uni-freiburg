{
 "cells": [
  {
   "cell_type": "markdown",
   "metadata": {},
   "source": [
    "# Assignment 4, Machine Learning Summer Term 2019, Uni Freiburg \n",
    "\n",
    "------------------------------\n",
    "As a reminder of our syntax during the assignment, you will see __Tasks__ and __Questions__.\n",
    "\n",
    "__Tasks__ are the steps you should follow to find the solution. \n",
    "\n",
    "__Questions __ are important concepts of the lecture. Answers to __Questions __ should be given in the notebook such that you can upload them together with your implementations to your git repository.\n"
   ]
  },
  {
   "cell_type": "markdown",
   "metadata": {},
   "source": [
    "## Exercise 1: Principal Component Analysis\n",
    "\n",
    "Principal Component Analysis is a very popular subspace method that belongs to the class of unsupervised algorithms. The exercise focuses on the practical usage of PCA and the interpretation of the resulting subspace components: [4.1 Principal Component Analysis](4.1 PCA.ipynb)"
   ]
  },
  {
   "cell_type": "markdown",
   "metadata": {},
   "source": [
    "## Exercise 2: Theory of ICA\n",
    "\n",
    "The Independent Source Analysis (ICA) builds upon the concept of statistical independence. This exercise revisits the theoretical background and model assumptions of ICA and gives you a link to the PCA: [4.2 Theory of ICA](4.2 Theory of ICA.ipynb)"
   ]
  },
  {
   "cell_type": "markdown",
   "metadata": {},
   "source": [
    "## Exercise 3: ICA in practice\n",
    "\n",
    "As the ICA assumes a linear mixing of independent sources, you will apply this model in a data scenario and learn how to interpret the results of an ICA model. The exercise shows you links to the model assumptions and tackles the application field of ICA in a typical Machine Learning framework: [4.3 ICA in practice](4.3 ICA in practice.ipynb)"
   ]
  }
 ],
 "metadata": {
  "kernelspec": {
   "display_name": "Python 3",
   "language": "python",
   "name": "python3"
  },
  "language_info": {
   "codemirror_mode": {
    "name": "ipython",
    "version": 3
   },
   "file_extension": ".py",
   "mimetype": "text/x-python",
   "name": "python",
   "nbconvert_exporter": "python",
   "pygments_lexer": "ipython3",
   "version": "3.7.1"
  }
 },
 "nbformat": 4,
 "nbformat_minor": 1
}
