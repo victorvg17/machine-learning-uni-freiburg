{
 "cells": [
  {
   "cell_type": "markdown",
   "metadata": {},
   "source": [
    "# Exercise 4.3: Independent Component Analysis in Practice\n"
   ]
  },
  {
   "cell_type": "code",
   "execution_count": 1,
   "metadata": {},
   "outputs": [],
   "source": [
    "%matplotlib inline\n",
    "import numpy as np\n",
    "import matplotlib.pyplot as plt\n",
    "from scipy import signal\n",
    "from sklearn.decomposition import FastICA"
   ]
  },
  {
   "cell_type": "markdown",
   "metadata": {},
   "source": [
    "## Blind Source Separation using FastICA\n",
    "\n",
    "Imagine the following situation: there are three singers in a sound studio. Each of the singers (\"sound source\") generates a sound wave $s_{i}(t)$ over time $t$. The singers are surrounded by three microphones while each of those are recording the arriving sound $x_{j}(t)$. Given the observations of the three microphones $x_{j}(t), j=\\{1,2,3\\}$, we now want to compute a reconstruction of the contribution of each singer $s_{i,rec}(t)$ using an ICA model.\n",
    "\n",
    "__Note:__ In the following code, the true sources $S_{true}$ as well as the mixing matrix $A$ are given to generate the observations $X$. In a real world scenario, this would of course not be the case. Instead, you want to reconstruct the independent sources $S_{rec}$ and the mixing matrix $\\hat A$.\n",
    "\n",
    "__Tasks:__\n",
    "1. Inspect the given generative model for constructing a data set of the above described scenario and train a FastICA model in order to reconstruct $s_{i,rec}(t)$ of each singer. Therefore, you can use the FastICA implementation of the scikit-learn toolbox. \n",
    "2. Visualize the observations $x_{j}(t)$ of every microphone, the reconstructed source signals $s_{i,rec}(t)$ and the true sources for all three components $s_{i,true}(t)$. Therefore, use the function 'visualize_data()' as you need to do such kind of plots a few times within this exercise.\n",
    "3. Plot histograms of the estimated sources. "
   ]
  },
  {
   "cell_type": "code",
   "execution_count": 2,
   "metadata": {},
   "outputs": [],
   "source": [
    "def visualize_data(models, names):\n",
    "    '''plot figure with subplot for each specified model, \n",
    "    in each subplot all three components are shown\n",
    "    Input: list 'models', 'names' \n",
    "           (e.g. models = [X, S_true] and names =['observations X', 'true sources'])'''\n",
    "    \n",
    "    colors = ['red', 'skyblue', 'orange']\n",
    "    \n",
    "    plt.figure(figsize=(12,8))\n",
    "    for ii, (model, name) in enumerate(zip(models, names), 1):\n",
    "        plt.subplot(len(names), 1, ii)\n",
    "        plt.title(name,fontsize=15)\n",
    "        for sig, color in zip(model.T, colors):\n",
    "            plt.plot(sig, color=color)\n",
    "        \n",
    "    plt.subplots_adjust(0.09, 0.04, 0.94, 0.94, 0.26, 0.46)\n",
    "    plt.show()"
   ]
  },
  {
   "cell_type": "code",
   "execution_count": 3,
   "metadata": {},
   "outputs": [],
   "source": [
    "# Generate sample data\n",
    "np.random.seed(35)\n",
    "N_samples = 2000\n",
    "time = np.linspace(0, 8, N_samples)\n",
    "\n",
    "# Singer 1 : sinusoidal signal\n",
    "s1 = np.sin(3 * time)  \n",
    "# Singer 2 : square signal\n",
    "s2 = np.sign(np.sin(4 * time))\n",
    "# Singer 3: saw tooth signal\n",
    "s3 = signal.sawtooth(2 * np.pi * time)  \n",
    "\n",
    "# concatenate the true single sources and add noise \n",
    "S_true = np.c_[s1, s2, s3]\n",
    "S_true += 0.2 * np.random.normal(size=S_true.shape)  \n",
    "\n",
    "# standardize the data\n",
    "S_true /= S_true.std(axis=0) \n",
    "\n",
    "# Mix data\n",
    "A = np.array([[1, 1, 1], [0.3, 2, 1.2], [1.5, 1.2, 2.4]])  # Mixing matrix\n",
    "X = np.dot(S_true, A.T)\n",
    "\n",
    "# Task (1): Compute ICA with three components and reconstruct signals from the observations\n",
    " \n",
    "\n",
    "# Task (2): Plot the observations X, the true source S_true and the reconstructed sources S_rec\n",
    "\n"
   ]
  },
  {
   "cell_type": "markdown",
   "metadata": {},
   "source": [
    "#### Q4.3.1) Compare the time series of the reconstructed sources with the true sources in terms of their order and sign. What do you observe?\n"
   ]
  },
  {
   "cell_type": "code",
   "execution_count": 4,
   "metadata": {},
   "outputs": [],
   "source": [
    "# Task (3): Visualize the histogram of all three estimated independent components\n",
    "\n"
   ]
  },
  {
   "cell_type": "markdown",
   "metadata": {},
   "source": [
    "#### Q4.3.2) Verify the distribution of the estimated independent components. Which types of distributions do you expect the ICA to return?\n"
   ]
  },
  {
   "cell_type": "markdown",
   "metadata": {},
   "source": [
    "## Influence of data shuffling \n",
    "\n",
    "Now, we assume that the time information $t$ of the studio recording gets lost and verify the influence upon the ICA model.  \n",
    "\n",
    "__Tasks:__ \n",
    "1. Generate a time-shuffled version of the observations $X_{shuffled}$. __Hint:__ You can use the `np.random.permutation()` function to generate a permutation of timesteps $\\{1, 2, ..., T\\}$, which can be used to rearrange your dataset along one axis.\n",
    "2. Compute an ICA model on the modified recordings $X_{shuffled}$ and un-shuffle the reconstructed independent sources $S_{rec,shuffled}$ such that it has the same temporal order as $S_{true}$. __Hint:__ You can use the `np.argsort()` function to invert the permutation you generated before.\n",
    "3. Use the 'visualize_data()' function to plot the reconstructed, unshuffled ICA-sources $S_{rec}$ and the true sources $S_{true}$."
   ]
  },
  {
   "cell_type": "code",
   "execution_count": 5,
   "metadata": {
    "scrolled": true
   },
   "outputs": [],
   "source": [
    "# Task (1): Randomly shuffle X\n",
    "\n",
    "\n",
    "# Task (2): Re-Train ICA model on X_shuffled and un-shuffle the reconstructed sources \n",
    "\n",
    "\n",
    "# Task (3): Visualize the different signals\n"
   ]
  },
  {
   "cell_type": "markdown",
   "metadata": {},
   "source": [
    "#### Q4.3.3) Compare the reconstructed ICA-sources for the shuffled data and the non-shuffled data - can you give a reason for your observation?\n"
   ]
  },
  {
   "cell_type": "markdown",
   "metadata": {},
   "source": [
    "## Remove ICA component from your observations\n",
    "\n",
    "Now, we want to remove the contribution of two singers from the studio recordings $X$ such that only the contribution of singer 1 (sinusoidal waveform) remains. Therefore, you need to do the following steps:\n",
    "\n",
    "__Tasks:__\n",
    "1. Take the unmixing matrix $W=\\hat A^{-1}$ of the component/s you want to keep and project the observation data $X$ to the  source space $S_{rec}$\n",
    "2. Use the estimated mixing matrix $\\hat A$ of the component/s you want to keep and project the reconstructed sources $S_{rec}$ back to the observation space $X_{clean}$. \n",
    "3. Visualize the cleaned observations $X_{clean}$, the original observations $X$ as well as the reconstructed sources $S_{rec}$.\n",
    "\n",
    "__Hint:__ When selecting the components you want to remove from the observations, it might help to iteratively look at the cleaned observations $X_{clean}$ in order to see the effect."
   ]
  },
  {
   "cell_type": "code",
   "execution_count": 6,
   "metadata": {},
   "outputs": [],
   "source": [
    "# Task (1): Project data of selected components to the source space, using the unmixing matrix\n",
    "\n",
    "\n",
    "# Task (2): Project reconstructed ICA sources to the original space by mixing matrix \n",
    " \n",
    "\n",
    "# Task (3): Visusalize the time series data\n"
   ]
  },
  {
   "cell_type": "markdown",
   "metadata": {},
   "source": [
    "#### Q4.3.4) Revisit the 'ML design cycle' referred to in the lecture. To which block would you assign the removal of an ICA component? \n",
    "\n"
   ]
  }
 ],
 "metadata": {
  "kernelspec": {
   "display_name": "Python 3",
   "language": "python",
   "name": "python3"
  },
  "language_info": {
   "codemirror_mode": {
    "name": "ipython",
    "version": 3
   },
   "file_extension": ".py",
   "mimetype": "text/x-python",
   "name": "python",
   "nbconvert_exporter": "python",
   "pygments_lexer": "ipython3",
   "version": "3.7.3"
  }
 },
 "nbformat": 4,
 "nbformat_minor": 1
}
