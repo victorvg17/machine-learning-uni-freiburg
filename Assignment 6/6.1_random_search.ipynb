{
 "cells": [
  {
   "cell_type": "markdown",
   "metadata": {},
   "source": [
    "## Exercise 6.1\n",
    "\n",
    "\n",
    "One of the simplest approaches for hyperparameter optimization is random search since it is easy to implement and to parallelize. In this exercise, your task will be to implement a simple random search for a k-nearest neighbor classifier tuning the neighborhood size."
   ]
  },
  {
   "cell_type": "markdown",
   "metadata": {},
   "source": [
    "Task a) Implement a function which will train the classifier given a configuration and returns the validation performance."
   ]
  },
  {
   "cell_type": "code",
   "execution_count": 23,
   "metadata": {},
   "outputs": [],
   "source": [
    "# lets first load the data\n",
    "from sklearn import datasets\n",
    "\n",
    "iris = datasets.load_iris()\n",
    "X = iris.data\n",
    "y = iris.target\n",
    "\n",
    "#TODO split data into training and validation (let's assume we have another test set somewhere) \n",
    "# using 40% for validation\n",
    "# checkout out sklearn.model_selection \n"
   ]
  },
  {
   "cell_type": "code",
   "execution_count": 24,
   "metadata": {},
   "outputs": [],
   "source": [
    "from sklearn.neighbors import KNeighborsClassifier\n",
    "\n",
    "def run(config):\n",
    "    \n",
    "    # TODO create KNN object and pass n_neighbors\n",
    "\n",
    "    # TODO fit kNN on trainings data\n",
    "    \n",
    "    # TODO get score on valid data\n",
    "    \n",
    "    return score\n",
    "        "
   ]
  },
  {
   "cell_type": "markdown",
   "metadata": {},
   "source": [
    "Task b) Implement random search using the ConfigSpace module.\n",
    "Checkout [ConfigSpace Docu](https://automl.github.io/ConfigSpace/master/)"
   ]
  },
  {
   "cell_type": "code",
   "execution_count": 27,
   "metadata": {},
   "outputs": [
    {
     "name": "stdout",
     "output_type": "stream",
     "text": [
      "Configuration space object:\n",
      "  Hyperparameters:\n",
      "    n_neighbors, Type: UniformInteger, Range: [1, 40], Default: 20\n",
      "\n"
     ]
    }
   ],
   "source": [
    "from ConfigSpace.configuration_space import ConfigurationSpace\n",
    "import ConfigSpace.hyperparameters as CSH\n",
    "\n",
    "cs = ConfigurationSpace(seed=1)\n",
    "\n",
    "# TODO add n_neighbors as UniformIntegerHyperparameter with ranges (1,40)\n",
    "\n",
    "print(cs)"
   ]
  },
  {
   "cell_type": "code",
   "execution_count": 28,
   "metadata": {},
   "outputs": [
    {
     "name": "stdout",
     "output_type": "stream",
     "text": [
      "0.95\n",
      "0.9183333333333333\n",
      "0.9\n"
     ]
    }
   ],
   "source": [
    "#TODO implement a simple for-loop (10 iterations) and query run(config) by using cs.sample_configuration()\n",
    "\n",
    "scores = []\n",
    "for i in range(10):\n",
    "    #TODO \n",
    "    \n",
    "# let's check some statistics\n",
    "import numpy as np\n",
    "print(np.max(scores))\n",
    "print(np.mean(scores))\n",
    "print(np.min(scores))"
   ]
  },
  {
   "cell_type": "code",
   "execution_count": null,
   "metadata": {},
   "outputs": [],
   "source": []
  }
 ],
 "metadata": {
  "kernelspec": {
   "display_name": "Python 3",
   "language": "python",
   "name": "python3"
  },
  "language_info": {
   "codemirror_mode": {
    "name": "ipython",
    "version": 3
   },
   "file_extension": ".py",
   "mimetype": "text/x-python",
   "name": "python",
   "nbconvert_exporter": "python",
   "pygments_lexer": "ipython3",
   "version": "3.6.5"
  }
 },
 "nbformat": 4,
 "nbformat_minor": 2
}
