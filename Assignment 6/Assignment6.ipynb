{
 "cells": [
  {
   "cell_type": "markdown",
   "metadata": {},
   "source": [
    "# Assignment 6, Machine Learning Summer Term 2019, Uni Freiburg \n",
    "\n",
    "------------------------------\n"
   ]
  },
  {
   "cell_type": "markdown",
   "metadata": {},
   "source": [
    "## Exercise 6.1: Random Search\n",
    "\n",
    "One of the simplest approaches for hyperparameter optimization is random search since it is easy to implement and to parallelize. In this exercise, your task will be to implement a simple random search for a k-nearest neighbor classifier: [6.1 Random Search](6.1_random_search)"
   ]
  },
  {
   "cell_type": "markdown",
   "metadata": {},
   "source": [
    "## Exercise 6.2: Gaussian Processes for Bayesian Optimization\n",
    "\n",
    "A typcial predictive model used in Bayesian Optimization are Gaussian Processes (GPs). In this exercise, your task will be to run one iteration of BO to pick the next x. [6.2 GP_BO](6.2_gp_bo)"
   ]
  },
  {
   "cell_type": "code",
   "execution_count": null,
   "metadata": {},
   "outputs": [],
   "source": []
  }
 ],
 "metadata": {
  "kernelspec": {
   "display_name": "Python 3",
   "language": "python",
   "name": "python3"
  },
  "language_info": {
   "codemirror_mode": {
    "name": "ipython",
    "version": 3
   },
   "file_extension": ".py",
   "mimetype": "text/x-python",
   "name": "python",
   "nbconvert_exporter": "python",
   "pygments_lexer": "ipython3",
   "version": "3.7.1"
  }
 },
 "nbformat": 4,
 "nbformat_minor": 2
}
